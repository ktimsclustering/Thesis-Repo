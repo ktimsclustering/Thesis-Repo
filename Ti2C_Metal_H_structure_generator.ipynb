{
  "cells": [
    {
      "cell_type": "code",
      "execution_count": null,
      "id": "9561323b-a29b-4f55-a0df-259ae7e22144",
      "metadata": {
        "id": "9561323b-a29b-4f55-a0df-259ae7e22144"
      },
      "outputs": [],
      "source": [
        "import pymatgen.core\n",
        "import crystal_toolkit\n",
        "from pymatgen.core.structure import Structure, Lattice\n",
        "from pymatgen.analysis.adsorption import AdsorbateSiteFinder\n",
        "from pymatgen.analysis.local_env import CrystalNN\n",
        "from pymatgen.core.surface import SlabGenerator\n",
        "from pymatgen.analysis.structure_analyzer import SpacegroupAnalyzer\n",
        "from pymatgen.core.periodic_table import Element\n",
        "from pymatgen.core import Molecule\n",
        "from pymatgen.io.cif import CifWriter"
      ]
    },
    {
      "cell_type": "code",
      "execution_count": null,
      "id": "4a2d8ae4-1c1a-4948-ab68-4c4f64950c63",
      "metadata": {
        "id": "4a2d8ae4-1c1a-4948-ab68-4c4f64950c63"
      },
      "outputs": [],
      "source": [
        "def generate_adsorption_structures(cif_file, species, initial_coords, final_coords):\n",
        "    # Load the CIF file into a Structure object\n",
        "    structure = Structure.from_file(cif_file)\n",
        "\n",
        "    # Create an AdsorbateSiteFinder object\n",
        "    asf = AdsorbateSiteFinder(structure)\n",
        "\n",
        "    # Create Molecule objects representing the adsorbate with H atoms in two different positions\n",
        "    ads_coords_list = [\n",
        "        initial_coords, \n",
        "        final_coords\n",
        "    ]\n",
        "    ads_species_list = [\n",
        "        species, \n",
        "        [\"Li\", \"H\", \"H\"]\n",
        "    ]\n",
        "    ads_molecules = [\n",
        "        Molecule(species_list, ads_coords_list[i]) for i, species_list in enumerate(ads_species_list)\n",
        "    ]\n",
        "\n",
        "    # Generate adsorption structures for the two adsorbate molecules\n",
        "    ads_structs_list = [\n",
        "        asf.generate_adsorption_structures(ads_molecule, repeat=[1, 1, 1], find_args={\"distance\": 1.60}) \n",
        "        for ads_molecule in ads_molecules\n",
        "    ]\n",
        "\n",
        "    # Write each adsorption structure to a CIF file\n",
        "    for i, ads_structs in enumerate(ads_structs_list):\n",
        "        for j, struct in enumerate(ads_structs):\n",
        "            if i == 0:\n",
        "                coord_name = \"initial\"\n",
        "            else:\n",
        "                coord_name = \"final\"\n",
        "            filename = f\"ads_struct_{coord_name}_{j}.cif\"\n",
        "            writer = CifWriter(struct)\n",
        "            writer.write_file(filename)"
      ]
    },
    {
      "cell_type": "markdown",
      "id": "6e85aa4a-d6a2-4bf4-97ae-497757188e41",
      "metadata": {
        "id": "6e85aa4a-d6a2-4bf4-97ae-497757188e41"
      },
      "source": [
        "# EXAMPLE INPUT PAREMETERS"
      ]
    },
    {
      "cell_type": "code",
      "execution_count": null,
      "id": "3e7dd064-409c-4c45-85da-18d6b3b4773e",
      "metadata": {
        "id": "3e7dd064-409c-4c45-85da-18d6b3b4773e"
      },
      "outputs": [],
      "source": [
        "cif_file = \"ti2c.cif\"\n",
        "species = [\"Li\", \"H\", \"H\"]\n",
        "initial_coords = [[0, 0, 0], [0, 0, 7], [0, 0, 7.74]]\n",
        "final_coords = [[0, 0, 0], [0, 0, 3], [0, 0, 3.74]]\n"
      ]
    },
    {
      "cell_type": "code",
      "execution_count": null,
      "id": "1736f420-6fa6-407f-851d-9a3f108bdf1b",
      "metadata": {
        "id": "1736f420-6fa6-407f-851d-9a3f108bdf1b",
        "outputId": "b1d97218-e0df-43cb-d8f9-d0babfb8e599"
      },
      "outputs": [
        {
          "name": "stderr",
          "output_type": "stream",
          "text": [
            "C:\\Users\\She\\anaconda3\\lib\\site-packages\\pymatgen\\io\\cif.py:1153: UserWarning: Issues encountered while parsing CIF: Some fractional coordinates rounded to ideal values to avoid issues with finite precision.\n",
            "  warnings.warn(\"Issues encountered while parsing CIF: \" + \"\\n\".join(self.warnings))\n"
          ]
        }
      ],
      "source": [
        "generate_adsorption_structures(cif_file, species, initial_coords, final_coords)"
      ]
    },
    {
      "cell_type": "code",
      "execution_count": null,
      "id": "53ed80b0-190a-4e35-a62a-430b21f5068a",
      "metadata": {
        "id": "53ed80b0-190a-4e35-a62a-430b21f5068a"
      },
      "outputs": [],
      "source": []
    }
  ],
  "metadata": {
    "kernelspec": {
      "display_name": "Python 3 (ipykernel)",
      "language": "python",
      "name": "python3"
    },
    "language_info": {
      "codemirror_mode": {
        "name": "ipython",
        "version": 3
      },
      "file_extension": ".py",
      "mimetype": "text/x-python",
      "name": "python",
      "nbconvert_exporter": "python",
      "pygments_lexer": "ipython3",
      "version": "3.9.13"
    },
    "colab": {
      "provenance": []
    }
  },
  "nbformat": 4,
  "nbformat_minor": 5
}